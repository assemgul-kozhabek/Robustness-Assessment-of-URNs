{
 "cells": [
  {
   "cell_type": "code",
   "execution_count": null,
   "id": "a1aba9fd-5cf2-4c52-8d52-b34a7ae8cbe4",
   "metadata": {},
   "outputs": [],
   "source": []
  }
 ],
 "metadata": {
  "kernelspec": {
   "display_name": "",
   "name": ""
  },
  "language_info": {
   "name": ""
  }
 },
 "nbformat": 4,
 "nbformat_minor": 5
}
